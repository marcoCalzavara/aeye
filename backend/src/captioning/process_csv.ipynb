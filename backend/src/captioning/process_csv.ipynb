{
 "cells": [
  {
   "cell_type": "code",
   "execution_count": null,
   "id": "initial_id",
   "metadata": {
    "collapsed": true
   },
   "outputs": [],
   "source": [
    "import csv\n",
    "import re\n",
    "from pymilvus import connections, db, Collection, utility, FieldSchema, DataType, CollectionSchema\n",
    "import numpy as np"
   ]
  },
  {
   "cell_type": "code",
   "outputs": [],
   "source": [
    "# 1. Create a variable to store the path to the file\n",
    "PATH = \"/home/marco/image-viz/backend/src/caption_model/captions/captions_wikiart.csv\"\n",
    "PATH_CLEANED = \"/home/marco/image-viz/backend/src/caption_model/captions/captions_wikiart_cleaned.csv\"\n",
    "\n",
    "# 2. Open the file\n",
    "with open(PATH, \"r\") as file, open(PATH_CLEANED, \"w\") as file_cleaned:\n",
    "    # 3. Create a csv reader object and a csv writer object\n",
    "    reader = csv.reader(file)\n",
    "    writer = csv.writer(file_cleaned)\n",
    "    # 4. Write the header\n",
    "    writer.writerow(next(reader))\n",
    "    # 5. Loop over the rows\n",
    "    for row in reader:\n",
    "        # Split the string at \"ASSISTANT:\"\n",
    "        split_caption = row[1].split(\"ASSISTANT:\", 1)\n",
    "        if len(split_caption) > 1:\n",
    "            # Select the part after \"ASSISTANT:\"\n",
    "            assistant_caption = split_caption[1]\n",
    "            # Replace newlines with spaces\n",
    "            cleaned_caption = re.sub('\\n+', ' ', assistant_caption)\n",
    "            # Remove unnecessary spaces at the beginning and end\n",
    "            cleaned_caption = cleaned_caption.strip()\n",
    "            # Write the cleaned caption to the new file\n",
    "            writer.writerow([row[0], cleaned_caption])"
   ],
   "metadata": {
    "collapsed": false
   },
   "id": "da8362f899c09e1d",
   "execution_count": null
  },
  {
   "cell_type": "code",
   "outputs": [],
   "source": [
    "# 1. Create a variable to store the path to the file\n",
    "DATASET = \"wikiart\"\n",
    "PATH = f\"/home/marco/image-viz/backend/src/caption_model/captions/captions_{DATASET}.csv\"\n",
    "\n",
    "captions = {}\n",
    "# 2. Open the file\n",
    "with open(PATH, \"r\") as file:\n",
    "    # 3. Create a csv reader object\n",
    "    reader = csv.reader(file)\n",
    "    header = next(reader)\n",
    "    # 5. Loop over the rows\n",
    "    for row in reader:\n",
    "        # Get captions\n",
    "        captions[int(row[0])] = row[1]\n",
    "        \n",
    "captions[123]"
   ],
   "metadata": {
    "collapsed": false
   },
   "id": "2c68993138f08a02",
   "execution_count": null
  },
  {
   "cell_type": "code",
   "outputs": [],
   "source": [
    "# Create milvus connection\n",
    "connections.connect(\n",
    "        host=\"0.0.0.0\",\n",
    "        port=19530,\n",
    "        user=\"root\",\n",
    "        password=\"Milvus\"\n",
    "    )\n",
    "# Use database\n",
    "db.using_database(\"aiplusart\")\n",
    "# Use collection\n",
    "collection = Collection(DATASET)"
   ],
   "metadata": {
    "collapsed": false
   },
   "id": "74e486f97cef878",
   "execution_count": null
  },
  {
   "cell_type": "code",
   "outputs": [],
   "source": [
    " # Fetch vectors\n",
    "entities = []\n",
    "try:\n",
    "    for i in range(0, collection.num_entities, 16384):\n",
    "        if collection.num_entities > 0:\n",
    "            # Get SEARCH_LIMIT entities\n",
    "            query_result = collection.query(\n",
    "                expr=f\"index in {list(range(i, i + 16384))}\",\n",
    "                output_fields=[\"*\"]\n",
    "            )\n",
    "            # Add entities to the list of entities\n",
    "            entities += query_result\n",
    "except Exception as e:\n",
    "    print(e.__str__())\n",
    "    print(\"Error in update_metadata. Update failed!\")\n",
    "\n",
    "entities[123]"
   ],
   "metadata": {
    "collapsed": false
   },
   "id": "e011221b95335cdb",
   "execution_count": null
  },
  {
   "cell_type": "code",
   "outputs": [],
   "source": [
    "len(entities)"
   ],
   "metadata": {
    "collapsed": false
   },
   "id": "3570fefcacff2162",
   "execution_count": null
  },
  {
   "cell_type": "code",
   "outputs": [],
   "source": [
    "# Order entities by index\n",
    "entities = sorted(entities, key=lambda x: x[\"index\"])\n",
    "# Assert that the indices are correct, i.e., the range is the same as the number of captions\n",
    "assert len(entities) == len(captions)"
   ],
   "metadata": {
    "collapsed": false
   },
   "id": "772ce3133d4294d5",
   "execution_count": null
  },
  {
   "cell_type": "code",
   "outputs": [],
   "source": [
    "# Add captions to entities\n",
    "# Update vectors\n",
    "for i in range(len(entities)):\n",
    "    assert (entities[i][\"index\"] == i)\n",
    "    entities[i][\"caption\"] = captions[entities[i][\"index\"]]\n",
    "    \n",
    "entities[123]"
   ],
   "metadata": {
    "collapsed": false
   },
   "id": "d6dee9f0facf6b51",
   "execution_count": null
  },
  {
   "cell_type": "code",
   "outputs": [],
   "source": [
    "EMBEDDING_VECTOR_FIELD_NAME = \"embedding\"\n",
    "COSINE_METRIC = \"COSINE\"\n",
    "INDEX_TYPE = \"FLAT\"\n",
    "\n",
    "def embeddings_collection(collection_name: str):\n",
    "    # Create fields for collection\n",
    "    index = FieldSchema(\n",
    "        name=\"index\",\n",
    "        dtype=DataType.INT64,\n",
    "        is_primary=True\n",
    "    )\n",
    "    x = FieldSchema(\n",
    "        name=\"x\",\n",
    "        dtype=DataType.FLOAT,\n",
    "        default_value=np.nan\n",
    "    )\n",
    "    y = FieldSchema(\n",
    "        name=\"y\",\n",
    "        dtype=DataType.FLOAT,\n",
    "        default_value=np.nan\n",
    "    )\n",
    "    embedding = FieldSchema(\n",
    "        name=EMBEDDING_VECTOR_FIELD_NAME,\n",
    "        dtype=DataType.FLOAT_VECTOR,\n",
    "        dim=512\n",
    "    )\n",
    "\n",
    "    # Create collection schema\n",
    "    schema = CollectionSchema(\n",
    "        fields=[embedding, x, y, index],\n",
    "        description=\"embeddings\",\n",
    "        enable_dynamic_field=True\n",
    "    )\n",
    "\n",
    "    # Create collection\n",
    "    collection = Collection(\n",
    "        name=collection_name,\n",
    "        schema=schema,\n",
    "        shards_num=1  # type: ignore\n",
    "    )\n",
    "\n",
    "    # Create index for embedding field to make similarity search faster\n",
    "    index_params = {\n",
    "        \"metric_type\": COSINE_METRIC,\n",
    "        \"index_type\": INDEX_TYPE,\n",
    "        \"params\": {}\n",
    "    }\n",
    "\n",
    "    collection.create_index(\n",
    "        field_name=\"embedding\",\n",
    "        index_params=index_params\n",
    "    )\n",
    "\n",
    "    return collection"
   ],
   "metadata": {
    "collapsed": false
   },
   "id": "bc9d1a45daed579a",
   "execution_count": null
  },
  {
   "cell_type": "code",
   "outputs": [],
   "source": [
    "try:\n",
    "    # Create cluster collection\n",
    "    new_collection = embeddings_collection(\"temp_\" + DATASET)\n",
    "    # Do for loop to avoid resource exhaustion\n",
    "    for i in range(0, len(entities), 16384):\n",
    "        new_collection.insert(data=[entities[j] for j in range(i, i + 16384) if j < len(entities)])\n",
    "        new_collection.flush()\n",
    "except Exception as e:\n",
    "    print(e.__str__())\n",
    "    print(\"Error in update_metadata. Update failed!\")\n",
    "    utility.drop_collection(\"temp_\" + DATASET)"
   ],
   "metadata": {
    "collapsed": false
   },
   "id": "7bdcc4aeb1707f04",
   "execution_count": null
  },
  {
   "cell_type": "code",
   "outputs": [],
   "source": [
    "# Drop old collection and rename new collection\n",
    "try:\n",
    "    # Drop old collection\n",
    "    utility.drop_collection(DATASET)\n",
    "    # Rename new collection\n",
    "    utility.rename_collection(\"temp_\" + DATASET, DATASET, \"aiplusart\")\n",
    "except Exception as e:\n",
    "    print(e.__str__())\n",
    "    print(\"Error in update_metadata. Update failed!\")"
   ],
   "metadata": {
    "collapsed": false
   },
   "id": "19cf65c1c669d6cb",
   "execution_count": null
  }
 ],
 "metadata": {
  "kernelspec": {
   "display_name": "Python 3",
   "language": "python",
   "name": "python3"
  },
  "language_info": {
   "codemirror_mode": {
    "name": "ipython",
    "version": 2
   },
   "file_extension": ".py",
   "mimetype": "text/x-python",
   "name": "python",
   "nbconvert_exporter": "python",
   "pygments_lexer": "ipython2",
   "version": "2.7.6"
  }
 },
 "nbformat": 4,
 "nbformat_minor": 5
}
