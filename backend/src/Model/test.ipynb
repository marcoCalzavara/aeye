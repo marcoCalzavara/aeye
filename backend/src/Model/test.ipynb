{
 "cells": [
  {
   "cell_type": "code",
   "execution_count": 1,
   "id": "initial_id",
   "metadata": {
    "collapsed": true,
    "ExecuteTime": {
     "end_time": "2023-10-27T08:59:14.149502Z",
     "start_time": "2023-10-27T08:59:11.678219Z"
    }
   },
   "outputs": [],
   "source": [
    "from CONSTANTS import *\n",
    "import torch\n",
    "import numpy as np\n",
    "\n",
    "def _save_missing_indeces(start, attributes, missing_indeces, is_missing_indeces=False):\n",
    "    if \"index\" not in attributes.keys():\n",
    "        return\n",
    "    else:\n",
    "        # Compute missing values from current processing step\n",
    "        if not is_missing_indeces:\n",
    "            upper_value = torch.max(attributes[\"index\"]).item()\n",
    "            complete_tensor_of_indeces = torch.arange(start, upper_value + 1).detach()\n",
    "            missing_indeces = list(set(missing_indeces + np.setdiff1d(complete_tensor_of_indeces.cpu().numpy(), attributes[\"index\"].cpu().numpy()).tolist()))\n",
    "        else:\n",
    "            upper_value = start - 1\n",
    "            missing_indeces = np.setdiff1d(np.array(missing_indeces),\n",
    "                                                 attributes[\"index\"].cpu().numpy()).tolist()\n",
    "        # Dump information in file for future use. The information consists of two lines:\n",
    "        # 1. Indeces of samples that have been skipped.\n",
    "        # 2. Index of the last sample that has been processed plus 1.\n",
    "        with open(FILE_MISSING_INDECES, \"w\") as f:\n",
    "            f.write(', '.join(map(str, missing_indeces)) + \"\\n\")\n",
    "            f.write(str(upper_value + 1))\n",
    "\n",
    "\n",
    "\n",
    "attributes = {\"index\": torch.tensor([i for i in range(35, 151)])}     \n",
    "missing_indeces = [2,6,36, 45]\n",
    "_save_missing_indeces(151, attributes, missing_indeces, True)"
   ]
  },
  {
   "cell_type": "code",
   "execution_count": 10,
   "outputs": [
    {
     "data": {
      "text/plain": "{}"
     },
     "execution_count": 10,
     "metadata": {},
     "output_type": "execute_result"
    }
   ],
   "source": [
    "import pinecone\n",
    "\n",
    "# Create reference to pinecone index\n",
    "pinecone.init(api_key=PINECONE_API_KEY, environment=PINECONE_ENV)\n",
    "index = pinecone.Index(PINECONE_INDEX_NAME)\n",
    "\n",
    "index.delete(ids=[str(i) for i in range(3000, 4000)])"
   ],
   "metadata": {
    "collapsed": false,
    "ExecuteTime": {
     "end_time": "2023-10-27T09:08:51.256088400Z",
     "start_time": "2023-10-27T09:08:50.627830600Z"
    }
   },
   "id": "2ea2a89a81b4631b"
  },
  {
   "cell_type": "code",
   "execution_count": null,
   "outputs": [],
   "source": [],
   "metadata": {
    "collapsed": false
   },
   "id": "8bdfb85099dd282b"
  }
 ],
 "metadata": {
  "kernelspec": {
   "display_name": "Python 3",
   "language": "python",
   "name": "python3"
  },
  "language_info": {
   "codemirror_mode": {
    "name": "ipython",
    "version": 2
   },
   "file_extension": ".py",
   "mimetype": "text/x-python",
   "name": "python",
   "nbconvert_exporter": "python",
   "pygments_lexer": "ipython2",
   "version": "2.7.6"
  }
 },
 "nbformat": 4,
 "nbformat_minor": 5
}
